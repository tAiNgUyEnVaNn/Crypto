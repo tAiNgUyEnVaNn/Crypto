{
 "cells": [
  {
   "cell_type": "markdown",
   "metadata": {},
   "source": [
    "# Basic function and matrix"
   ]
  },
  {
   "cell_type": "markdown",
   "metadata": {},
   "source": [
    "## Matrix"
   ]
  },
  {
   "cell_type": "code",
   "execution_count": 1,
   "metadata": {},
   "outputs": [],
   "source": [
    "# Table of Position of 64 bits at initial level: Initial Permutation Table\n",
    "initial_perm = [58, 50, 42, 34, 26, 18, 10, 2,\n",
    "\t\t\t\t60, 52, 44, 36, 28, 20, 12, 4,\n",
    "\t\t\t\t62, 54, 46, 38, 30, 22, 14, 6,\n",
    "\t\t\t\t64, 56, 48, 40, 32, 24, 16, 8,\n",
    "\t\t\t\t57, 49, 41, 33, 25, 17, 9, 1,\n",
    "\t\t\t\t59, 51, 43, 35, 27, 19, 11, 3,\n",
    "\t\t\t\t61, 53, 45, 37, 29, 21, 13, 5,\n",
    "\t\t\t\t63, 55, 47, 39, 31, 23, 15, 7]\n",
    "\n",
    "# Expansion D-box Table\n",
    "exp_d = [32, 1, 2, 3, 4, 5, 4, 5,\n",
    "\t\t6, 7, 8, 9, 8, 9, 10, 11,\n",
    "\t\t12, 13, 12, 13, 14, 15, 16, 17,\n",
    "\t\t16, 17, 18, 19, 20, 21, 20, 21,\n",
    "\t\t22, 23, 24, 25, 24, 25, 26, 27,\n",
    "\t\t28, 29, 28, 29, 30, 31, 32, 1]\n",
    "\n",
    "# Straight Permutation Table\n",
    "per = [16, 7, 20, 21,\n",
    "\t29, 12, 28, 17,\n",
    "\t1, 15, 23, 26,\n",
    "\t5, 18, 31, 10,\n",
    "\t2, 8, 24, 14,\n",
    "\t32, 27, 3, 9,\n",
    "\t19, 13, 30, 6,\n",
    "\t22, 11, 4, 25]\n",
    "\n",
    "# S-box Table\n",
    "sbox = [[[14, 4, 13, 1, 2, 15, 11, 8, 3, 10, 6, 12, 5, 9, 0, 7],\n",
    "\t\t[0, 15, 7, 4, 14, 2, 13, 1, 10, 6, 12, 11, 9, 5, 3, 8],\n",
    "\t\t[4, 1, 14, 8, 13, 6, 2, 11, 15, 12, 9, 7, 3, 10, 5, 0],\n",
    "\t\t[15, 12, 8, 2, 4, 9, 1, 7, 5, 11, 3, 14, 10, 0, 6, 13]],\n",
    "\n",
    "\t\t[[15, 1, 8, 14, 6, 11, 3, 4, 9, 7, 2, 13, 12, 0, 5, 10],\n",
    "\t\t[3, 13, 4, 7, 15, 2, 8, 14, 12, 0, 1, 10, 6, 9, 11, 5],\n",
    "\t\t[0, 14, 7, 11, 10, 4, 13, 1, 5, 8, 12, 6, 9, 3, 2, 15],\n",
    "\t\t[13, 8, 10, 1, 3, 15, 4, 2, 11, 6, 7, 12, 0, 5, 14, 9]],\n",
    "\n",
    "\t\t[[10, 0, 9, 14, 6, 3, 15, 5, 1, 13, 12, 7, 11, 4, 2, 8],\n",
    "\t\t[13, 7, 0, 9, 3, 4, 6, 10, 2, 8, 5, 14, 12, 11, 15, 1],\n",
    "\t\t[13, 6, 4, 9, 8, 15, 3, 0, 11, 1, 2, 12, 5, 10, 14, 7],\n",
    "\t\t[1, 10, 13, 0, 6, 9, 8, 7, 4, 15, 14, 3, 11, 5, 2, 12]],\n",
    "\n",
    "\t\t[[7, 13, 14, 3, 0, 6, 9, 10, 1, 2, 8, 5, 11, 12, 4, 15],\n",
    "\t\t[13, 8, 11, 5, 6, 15, 0, 3, 4, 7, 2, 12, 1, 10, 14, 9],\n",
    "\t\t[10, 6, 9, 0, 12, 11, 7, 13, 15, 1, 3, 14, 5, 2, 8, 4],\n",
    "\t\t[3, 15, 0, 6, 10, 1, 13, 8, 9, 4, 5, 11, 12, 7, 2, 14]],\n",
    "\n",
    "\t\t[[2, 12, 4, 1, 7, 10, 11, 6, 8, 5, 3, 15, 13, 0, 14, 9],\n",
    "\t\t[14, 11, 2, 12, 4, 7, 13, 1, 5, 0, 15, 10, 3, 9, 8, 6],\n",
    "\t\t[4, 2, 1, 11, 10, 13, 7, 8, 15, 9, 12, 5, 6, 3, 0, 14],\n",
    "\t\t[11, 8, 12, 7, 1, 14, 2, 13, 6, 15, 0, 9, 10, 4, 5, 3]],\n",
    "\n",
    "\t\t[[12, 1, 10, 15, 9, 2, 6, 8, 0, 13, 3, 4, 14, 7, 5, 11],\n",
    "\t\t[10, 15, 4, 2, 7, 12, 9, 5, 6, 1, 13, 14, 0, 11, 3, 8],\n",
    "\t\t[9, 14, 15, 5, 2, 8, 12, 3, 7, 0, 4, 10, 1, 13, 11, 6],\n",
    "\t\t[4, 3, 2, 12, 9, 5, 15, 10, 11, 14, 1, 7, 6, 0, 8, 13]],\n",
    "\n",
    "\t\t[[4, 11, 2, 14, 15, 0, 8, 13, 3, 12, 9, 7, 5, 10, 6, 1],\n",
    "\t\t[13, 0, 11, 7, 4, 9, 1, 10, 14, 3, 5, 12, 2, 15, 8, 6],\n",
    "\t\t[1, 4, 11, 13, 12, 3, 7, 14, 10, 15, 6, 8, 0, 5, 9, 2],\n",
    "\t\t[6, 11, 13, 8, 1, 4, 10, 7, 9, 5, 0, 15, 14, 2, 3, 12]],\n",
    "\n",
    "\t\t[[13, 2, 8, 4, 6, 15, 11, 1, 10, 9, 3, 14, 5, 0, 12, 7],\n",
    "\t\t[1, 15, 13, 8, 10, 3, 7, 4, 12, 5, 6, 11, 0, 14, 9, 2],\n",
    "\t\t[7, 11, 4, 1, 9, 12, 14, 2, 0, 6, 10, 13, 15, 3, 5, 8],\n",
    "\t\t[2, 1, 14, 7, 4, 10, 8, 13, 15, 12, 9, 0, 3, 5, 6, 11]]]\n",
    "\n",
    "# Final Permutation Table\n",
    "final_perm = [40, 8, 48, 16, 56, 24, 64, 32,\n",
    "\t\t\t39, 7, 47, 15, 55, 23, 63, 31,\n",
    "\t\t\t38, 6, 46, 14, 54, 22, 62, 30,\n",
    "\t\t\t37, 5, 45, 13, 53, 21, 61, 29,\n",
    "\t\t\t36, 4, 44, 12, 52, 20, 60, 28,\n",
    "\t\t\t35, 3, 43, 11, 51, 19, 59, 27,\n",
    "\t\t\t34, 2, 42, 10, 50, 18, 58, 26,\n",
    "\t\t\t33, 1, 41, 9, 49, 17, 57, 25]\n",
    "\n",
    "# --parity bit drop table\n",
    "keyp = [57, 49, 41, 33, 25, 17, 9,\n",
    "\t\t1, 58, 50, 42, 34, 26, 18,\n",
    "\t\t10, 2, 59, 51, 43, 35, 27,\n",
    "\t\t19, 11, 3, 60, 52, 44, 36,\n",
    "\t\t63, 55, 47, 39, 31, 23, 15,\n",
    "\t\t7, 62, 54, 46, 38, 30, 22,\n",
    "\t\t14, 6, 61, 53, 45, 37, 29,\n",
    "\t\t21, 13, 5, 28, 20, 12, 4]\n",
    "\n",
    "# Number of bit shifts\n",
    "shift_table = [1, 1, 2, 2,\n",
    "\t\t\t2, 2, 2, 2,\n",
    "\t\t\t1, 2, 2, 2,\n",
    "\t\t\t2, 2, 2, 1]\n",
    "\n",
    "# Key- Compression Table : Compression of key from 56 bits to 48 bits\n",
    "key_comp = [14, 17, 11, 24, 1, 5,\n",
    "\t\t\t3, 28, 15, 6, 21, 10,\n",
    "\t\t\t23, 19, 12, 4, 26, 8,\n",
    "\t\t\t16, 7, 27, 20, 13, 2,\n",
    "\t\t\t41, 52, 31, 37, 47, 55,\n",
    "\t\t\t30, 40, 51, 45, 33, 48,\n",
    "\t\t\t44, 49, 39, 56, 34, 53,\n",
    "\t\t\t46, 42, 50, 36, 29, 32]\n"
   ]
  },
  {
   "cell_type": "markdown",
   "metadata": {},
   "source": [
    "## Chuyển đổi giữa các cơ số (Base-N converting)"
   ]
  },
  {
   "cell_type": "code",
   "execution_count": 2,
   "metadata": {},
   "outputs": [],
   "source": [
    "def hex2bin(s):\n",
    "\tmp = {'0': \"0000\",\n",
    "\t\t'1': \"0001\",\n",
    "\t\t'2': \"0010\",\n",
    "\t\t'3': \"0011\",\n",
    "\t\t'4': \"0100\",\n",
    "\t\t'5': \"0101\",\n",
    "\t\t'6': \"0110\",\n",
    "\t\t'7': \"0111\",\n",
    "\t\t'8': \"1000\",\n",
    "\t\t'9': \"1001\",\n",
    "\t\t'A': \"1010\",\n",
    "\t\t'B': \"1011\",\n",
    "\t\t'C': \"1100\",\n",
    "\t\t'D': \"1101\",\n",
    "\t\t'E': \"1110\",\n",
    "\t\t'F': \"1111\"}\n",
    "\tbin = \"\"\n",
    "\tfor i in range(len(s)):\n",
    "\t\tbin = bin + mp[s[i]]\n",
    "\treturn bin\n",
    "\n",
    "# Binary to hexadecimal conversion\n",
    "\n",
    "\n",
    "def bin2hex(s):\n",
    "\tmp = {\"0000\": '0',\n",
    "\t\t\"0001\": '1',\n",
    "\t\t\"0010\": '2',\n",
    "\t\t\"0011\": '3',\n",
    "\t\t\"0100\": '4',\n",
    "\t\t\"0101\": '5',\n",
    "\t\t\"0110\": '6',\n",
    "\t\t\"0111\": '7',\n",
    "\t\t\"1000\": '8',\n",
    "\t\t\"1001\": '9',\n",
    "\t\t\"1010\": 'A',\n",
    "\t\t\"1011\": 'B',\n",
    "\t\t\"1100\": 'C',\n",
    "\t\t\"1101\": 'D',\n",
    "\t\t\"1110\": 'E',\n",
    "\t\t\"1111\": 'F'}\n",
    "\thex = \"\"\n",
    "\tfor i in range(0, len(s), 4):\n",
    "\t\tch = \"\"\n",
    "\t\tch = ch + s[i]\n",
    "\t\tch = ch + s[i + 1]\n",
    "\t\tch = ch + s[i + 2]\n",
    "\t\tch = ch + s[i + 3]\n",
    "\t\thex = hex + mp[ch]\n",
    "\n",
    "\treturn hex\n",
    "\n",
    "# Binary to decimal conversion\n",
    "\n",
    "\n",
    "def bin2dec(binary):\n",
    "\tbinary1 = binary\n",
    "\tdecimal, i, n = 0, 0, 0\n",
    "\twhile(binary != 0):\n",
    "\t\tdec = binary % 10\n",
    "\t\tdecimal = decimal + dec * pow(2, i)\n",
    "\t\tbinary = binary//10\n",
    "\t\ti += 1\n",
    "\treturn decimal\n",
    "\n",
    "# Decimal to binary conversion\n",
    "\n",
    "\n",
    "def dec2bin(num):\n",
    "\tres = bin(num).replace(\"0b\", \"\")\n",
    "\tif(len(res) % 4 != 0):\n",
    "\t\tdiv = len(res) / 4\n",
    "\t\tdiv = int(div)\n",
    "\t\tcounter = (4 * (div + 1)) - len(res)\n",
    "\t\tfor i in range(0, counter):\n",
    "\t\t\tres = '0' + res\n",
    "\treturn res\n",
    "\n",
    "# print(dec2bin(4))\n",
    "\n",
    "# # Example\n",
    "# s = \"123\"\n",
    "# n = 1001\n",
    "\n",
    "# bin = hex2bin(s)\n",
    "# hex = bin2hex(bin)\n",
    "# # dec = bin2dec(n)\n",
    "# # bin = dec2bin(n)\n",
    "\n",
    "# # example\n",
    "# print(\"bin: \", bin, \"hex: \", hex)\n",
    "# # print(\"bin: \", bin)\n"
   ]
  },
  {
   "cell_type": "markdown",
   "metadata": {},
   "source": [
    "## Hoán vị (Permutation)"
   ]
  },
  {
   "cell_type": "code",
   "execution_count": 3,
   "metadata": {},
   "outputs": [
    {
     "name": "stdout",
     "output_type": "stream",
     "text": [
      "_ 3322111233221114332221163322211839517391406284035173951562840627\n"
     ]
    }
   ],
   "source": [
    "def permute(k, arr, n):\n",
    "\tpermutation = \"\"\n",
    "\tfor i in range(0, n):\n",
    "\t\tpermutation = permutation + k[arr[i] - 1]\n",
    "\treturn permutation\n",
    "\n",
    "per=\"\"\n",
    "for i in range(1, 65):\n",
    "\tper += str(i)\n",
    "print(\"_\", permute(per, initial_perm, 64))"
   ]
  },
  {
   "cell_type": "markdown",
   "metadata": {},
   "source": [
    "## Shift Left"
   ]
  },
  {
   "cell_type": "code",
   "execution_count": 4,
   "metadata": {},
   "outputs": [
    {
     "name": "stdout",
     "output_type": "stream",
     "text": [
      "0011\n"
     ]
    }
   ],
   "source": [
    "def shift_left(k, nth_shifts):\n",
    "\ts = \"\"\n",
    "\tfor i in range(nth_shifts):\n",
    "\t\tfor j in range(1, len(k)):\n",
    "\t\t\ts = s + k[j]\n",
    "\t\ts = s + k[0]\n",
    "\t\tk = s\n",
    "\t\ts = \"\"\n",
    "\treturn k\n",
    "\n",
    "# For example\n",
    "bit_string = \"1001\"\n",
    "print(shift_left(bit_string, 1))"
   ]
  },
  {
   "cell_type": "markdown",
   "metadata": {},
   "source": [
    "## Xor"
   ]
  },
  {
   "cell_type": "code",
   "execution_count": 5,
   "metadata": {},
   "outputs": [],
   "source": [
    "def xor(a, b):\n",
    "\tans = \"\"\n",
    "\tfor i in range(len(a)):\n",
    "\t\tif a[i] == b[i]:\n",
    "\t\t\tans = ans + \"0\"\n",
    "\t\telse:\n",
    "\t\t\tans = ans + \"1\"\n",
    "\treturn ans\n"
   ]
  },
  {
   "cell_type": "markdown",
   "metadata": {},
   "source": [
    "# DES Coding"
   ]
  },
  {
   "cell_type": "markdown",
   "metadata": {},
   "source": [
    "## Key expansion"
   ]
  },
  {
   "cell_type": "code",
   "execution_count": 7,
   "metadata": {},
   "outputs": [
    {
     "name": "stdout",
     "output_type": "stream",
     "text": [
      "['001111000011001100000000000000110111011010000000', '011000110011100100000100000110000011101000000011', '000010001010010011010001001101100100000000110100', '010101010100010000111010000000010010100111000010', '111001101000000110000000101001001010000000010001', '000110101000101000000111011000110000011001000110', '001010010011000000011010000111001000000110001010', '001001000000010011101100000001000101010001000101', '000100001001010111010000011010000001100011000000', '010101000100100001100011010000001110000000111011', '101000111110000100000100001001110001110000001000', '000010000000011110000111100010000001000101110010', '011100010001000000111001000001011100101000100100', '100001011000000011100000010100000000110011010000', '100100100100101010010110100010011000000000011101', '001001000100111000000011101000010000011010101000']\n"
     ]
    }
   ],
   "source": [
    "def genKey(key):\n",
    "    key = hex2bin(key)\n",
    "    key = permute(key, keyp, 56)\n",
    "    left = key[0:28]\n",
    "    right = key[28:56]\n",
    "\n",
    "    rkb=[]\n",
    "    rk=[]\n",
    "    for i in range(0, 16):\n",
    "        # Shift left 1 or 2 bit follow shift table\n",
    "        left = shift_left(left, shift_table[i])\n",
    "        right = shift_left(right, shift_table[i])\n",
    "\n",
    "        # Combination and compression via D box\n",
    "        combine_str = left + right\n",
    "        round_key = permute(combine_str, key_comp, 48)\n",
    "\n",
    "        # Save to rk and rkb for other use\n",
    "        rkb.append(round_key)\n",
    "        rk.append(bin2hex(round_key))\n",
    "    return rkb, rk\n",
    "\n",
    "# key = \"0123ABCD45678910\"\n",
    "key = ''\n",
    "print(genKey(key)[0])"
   ]
  },
  {
   "cell_type": "code",
   "execution_count": null,
   "metadata": {},
   "outputs": [
    {
     "ename": "TypeError",
     "evalue": "unsupported operand type(s) for -: 'str' and 'int'",
     "output_type": "error",
     "traceback": [
      "\u001b[1;31m---------------------------------------------------------------------------\u001b[0m",
      "\u001b[1;31mTypeError\u001b[0m                                 Traceback (most recent call last)",
      "Cell \u001b[1;32mIn[7], line 46\u001b[0m\n\u001b[0;32m     43\u001b[0m pt\u001b[38;5;241m=\u001b[39m\u001b[38;5;124m\"\u001b[39m\u001b[38;5;124m0123456789ABCDEF\u001b[39m\u001b[38;5;124m\"\u001b[39m\n\u001b[0;32m     44\u001b[0m key \u001b[38;5;241m=\u001b[39m \u001b[38;5;124m\"\u001b[39m\u001b[38;5;124mAABB09182736CCDD\u001b[39m\u001b[38;5;124m\"\u001b[39m\n\u001b[1;32m---> 46\u001b[0m cipher_text \u001b[38;5;241m=\u001b[39m \u001b[43mencrypt\u001b[49m\u001b[43m(\u001b[49m\u001b[43mpt\u001b[49m\u001b[43m,\u001b[49m\u001b[43m \u001b[49m\u001b[43mkey\u001b[49m\u001b[43m)\u001b[49m\n\u001b[0;32m     47\u001b[0m \u001b[38;5;28mprint\u001b[39m(cipher_text)\n",
      "Cell \u001b[1;32mIn[7], line 25\u001b[0m, in \u001b[0;36mencrypt\u001b[1;34m(pt, key)\u001b[0m\n\u001b[0;32m     23\u001b[0m         sbox_str \u001b[38;5;241m=\u001b[39m sbox_str \u001b[38;5;241m+\u001b[39m dec2bin(val)\n\u001b[0;32m     24\u001b[0m \t\u001b[38;5;66;03m# Straight D-box: After substituting rearranging the bits\u001b[39;00m\n\u001b[1;32m---> 25\u001b[0m     sbox_str \u001b[38;5;241m=\u001b[39m \u001b[43mpermute\u001b[49m\u001b[43m(\u001b[49m\u001b[43msbox_str\u001b[49m\u001b[43m,\u001b[49m\u001b[43m \u001b[49m\u001b[43mper\u001b[49m\u001b[43m,\u001b[49m\u001b[43m \u001b[49m\u001b[38;5;241;43m32\u001b[39;49m\u001b[43m)\u001b[49m  \n\u001b[0;32m     26\u001b[0m \t\u001b[38;5;66;03m# XOR left and sbox_str\u001b[39;00m\n\u001b[0;32m     27\u001b[0m     result \u001b[38;5;241m=\u001b[39m xor(left, sbox_str)\n",
      "Cell \u001b[1;32mIn[3], line 4\u001b[0m, in \u001b[0;36mpermute\u001b[1;34m(k, arr, n)\u001b[0m\n\u001b[0;32m      2\u001b[0m permutation \u001b[38;5;241m=\u001b[39m \u001b[38;5;124m\"\u001b[39m\u001b[38;5;124m\"\u001b[39m\n\u001b[0;32m      3\u001b[0m \u001b[38;5;28;01mfor\u001b[39;00m i \u001b[38;5;129;01min\u001b[39;00m \u001b[38;5;28mrange\u001b[39m(\u001b[38;5;241m0\u001b[39m, n):\n\u001b[1;32m----> 4\u001b[0m \tpermutation \u001b[38;5;241m=\u001b[39m permutation \u001b[38;5;241m+\u001b[39m k[\u001b[43marr\u001b[49m\u001b[43m[\u001b[49m\u001b[43mi\u001b[49m\u001b[43m]\u001b[49m\u001b[43m \u001b[49m\u001b[38;5;241;43m-\u001b[39;49m\u001b[43m \u001b[49m\u001b[38;5;241;43m1\u001b[39;49m]\n\u001b[0;32m      5\u001b[0m \u001b[38;5;28;01mreturn\u001b[39;00m permutation\n",
      "\u001b[1;31mTypeError\u001b[0m: unsupported operand type(s) for -: 'str' and 'int'"
     ]
    }
   ],
   "source": [
    "def encrypt(pt, key):\n",
    "    pt = hex2bin(pt) #plain text\n",
    "    rkb = genKey(key)[0] #round key\n",
    "    # Initial Permutation\n",
    "    pt = permute(pt, initial_perm, 64)\n",
    "\n",
    "    # Splitting\n",
    "    left = pt[0:32]\n",
    "    right = pt[32:64]\n",
    "\n",
    "    for i in range(0, 16):\n",
    "    \t# Expansion D-box: Expanding the 32 bits data into 48 bits\n",
    "        right_expanded = permute(right, exp_d, 48)\n",
    "    \t# XOR RoundKey[i] and right_expanded\n",
    "        xor_x = xor(right_expanded, rkb[i])\n",
    "    \t# S-boxex: substituting the value from s-box table by calculating row and column\n",
    "        sbox_str = \"\"\n",
    "        for j in range(0, 8):\n",
    "            row = bin2dec(int(xor_x[j * 6] + xor_x[j * 6 + 5]))\n",
    "            col = bin2dec(\n",
    "        \t\tint(xor_x[j * 6 + 1] + xor_x[j * 6 + 2] + xor_x[j * 6 + 3] + xor_x[j * 6 + 4]))\n",
    "            val = sbox[j][row][col]\n",
    "            sbox_str = sbox_str + dec2bin(val)\n",
    "    \t# Straight D-box: After substituting rearranging the bits\n",
    "        sbox_str = permute(sbox_str, per, 32)  \n",
    "    \t# XOR left and sbox_str\n",
    "        result = xor(left, sbox_str)\n",
    "        left = result\n",
    "\n",
    "    \t# Swapper\n",
    "        if(i != 15):\n",
    "            left, right = right, left\n",
    "        # print(\"Round \", i + 1, \" \", bin2hex(left),\n",
    "    \t# \t\" \", bin2hex(right), \" \", rk[i])\n",
    "\n",
    "    # Combination\n",
    "    combine = left + right\n",
    "\n",
    "    # Final permutation: final rearranging of bits to get cipher text\n",
    "    cipher_text = permute(combine, final_perm, 64)\n",
    "    return cipher_text\n",
    "\n",
    "pt=\"0123456789ABCDEF\"\n",
    "key = \"AABB09182736CCDD\"\n",
    "\n",
    "cipher_text = encrypt(pt, key)\n",
    "print(cipher_text)"
   ]
  }
 ],
 "metadata": {
  "kernelspec": {
   "display_name": "Python 3",
   "language": "python",
   "name": "python3"
  },
  "language_info": {
   "codemirror_mode": {
    "name": "ipython",
    "version": 3
   },
   "file_extension": ".py",
   "mimetype": "text/x-python",
   "name": "python",
   "nbconvert_exporter": "python",
   "pygments_lexer": "ipython3",
   "version": "3.12.1"
  }
 },
 "nbformat": 4,
 "nbformat_minor": 2
}
